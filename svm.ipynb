{
 "cells": [
  {
   "cell_type": "markdown",
   "metadata": {},
   "source": [
    "# Dataset"
   ]
  },
  {
   "cell_type": "code",
   "execution_count": 181,
   "metadata": {},
   "outputs": [],
   "source": [
    "import pandas as pd\n",
    "import numpy as np\n",
    "import matplotlib.pyplot as plt\n",
    "import time\n",
    "from sklearn.model_selection import train_test_split\n",
    "from sklearn.model_selection import StratifiedKFold\n",
    "\n",
    "import warnings\n",
    "warnings.filterwarnings('always')"
   ]
  },
  {
   "cell_type": "code",
   "execution_count": 182,
   "metadata": {},
   "outputs": [],
   "source": [
    "# load the final dataframe from data_prep \n",
    "df_fulldata = pd.read_csv('diabetic_data_df.csv')"
   ]
  },
  {
   "cell_type": "code",
   "execution_count": 183,
   "metadata": {},
   "outputs": [],
   "source": [
    "# Load columns to use from data_prep\n",
    "col2use = pd.read_csv('col2use.csv')\n",
    "col2use = col2use['col2use'].tolist()\n",
    "\n",
    "df_data = df_fulldata[col2use]"
   ]
  },
  {
   "cell_type": "code",
   "execution_count": 184,
   "metadata": {},
   "outputs": [
    {
     "data": {
      "text/html": [
       "<div>\n",
       "<style scoped>\n",
       "    .dataframe tbody tr th:only-of-type {\n",
       "        vertical-align: middle;\n",
       "    }\n",
       "\n",
       "    .dataframe tbody tr th {\n",
       "        vertical-align: top;\n",
       "    }\n",
       "\n",
       "    .dataframe thead th {\n",
       "        text-align: right;\n",
       "    }\n",
       "</style>\n",
       "<table border=\"1\" class=\"dataframe\">\n",
       "  <thead>\n",
       "    <tr style=\"text-align: right;\">\n",
       "      <th></th>\n",
       "      <th>time_in_hospital</th>\n",
       "      <th>num_lab_procedures</th>\n",
       "      <th>num_procedures</th>\n",
       "      <th>num_medications</th>\n",
       "      <th>number_outpatient</th>\n",
       "      <th>number_emergency</th>\n",
       "      <th>number_inpatient</th>\n",
       "      <th>number_diagnoses</th>\n",
       "      <th>race_Asian</th>\n",
       "      <th>race_Caucasian</th>\n",
       "      <th>...</th>\n",
       "      <th>med_spec_InternalMedicine</th>\n",
       "      <th>med_spec_Nephrology</th>\n",
       "      <th>med_spec_Orthopedics</th>\n",
       "      <th>med_spec_Orthopedics-Reconstructive</th>\n",
       "      <th>med_spec_Other</th>\n",
       "      <th>med_spec_Radiologist</th>\n",
       "      <th>med_spec_Surgery-General</th>\n",
       "      <th>med_spec_UNK</th>\n",
       "      <th>age_group</th>\n",
       "      <th>has_weight</th>\n",
       "    </tr>\n",
       "  </thead>\n",
       "  <tbody>\n",
       "    <tr>\n",
       "      <th>0</th>\n",
       "      <td>1</td>\n",
       "      <td>41</td>\n",
       "      <td>0</td>\n",
       "      <td>1</td>\n",
       "      <td>0</td>\n",
       "      <td>0</td>\n",
       "      <td>0</td>\n",
       "      <td>1</td>\n",
       "      <td>0</td>\n",
       "      <td>1</td>\n",
       "      <td>...</td>\n",
       "      <td>0</td>\n",
       "      <td>0</td>\n",
       "      <td>0</td>\n",
       "      <td>0</td>\n",
       "      <td>1</td>\n",
       "      <td>0</td>\n",
       "      <td>0</td>\n",
       "      <td>0</td>\n",
       "      <td>0</td>\n",
       "      <td>0</td>\n",
       "    </tr>\n",
       "    <tr>\n",
       "      <th>1</th>\n",
       "      <td>3</td>\n",
       "      <td>59</td>\n",
       "      <td>0</td>\n",
       "      <td>18</td>\n",
       "      <td>0</td>\n",
       "      <td>0</td>\n",
       "      <td>0</td>\n",
       "      <td>9</td>\n",
       "      <td>0</td>\n",
       "      <td>1</td>\n",
       "      <td>...</td>\n",
       "      <td>0</td>\n",
       "      <td>0</td>\n",
       "      <td>0</td>\n",
       "      <td>0</td>\n",
       "      <td>0</td>\n",
       "      <td>0</td>\n",
       "      <td>0</td>\n",
       "      <td>1</td>\n",
       "      <td>10</td>\n",
       "      <td>0</td>\n",
       "    </tr>\n",
       "    <tr>\n",
       "      <th>2</th>\n",
       "      <td>2</td>\n",
       "      <td>11</td>\n",
       "      <td>5</td>\n",
       "      <td>13</td>\n",
       "      <td>2</td>\n",
       "      <td>0</td>\n",
       "      <td>1</td>\n",
       "      <td>6</td>\n",
       "      <td>0</td>\n",
       "      <td>0</td>\n",
       "      <td>...</td>\n",
       "      <td>0</td>\n",
       "      <td>0</td>\n",
       "      <td>0</td>\n",
       "      <td>0</td>\n",
       "      <td>0</td>\n",
       "      <td>0</td>\n",
       "      <td>0</td>\n",
       "      <td>1</td>\n",
       "      <td>20</td>\n",
       "      <td>0</td>\n",
       "    </tr>\n",
       "    <tr>\n",
       "      <th>3</th>\n",
       "      <td>2</td>\n",
       "      <td>44</td>\n",
       "      <td>1</td>\n",
       "      <td>16</td>\n",
       "      <td>0</td>\n",
       "      <td>0</td>\n",
       "      <td>0</td>\n",
       "      <td>7</td>\n",
       "      <td>0</td>\n",
       "      <td>1</td>\n",
       "      <td>...</td>\n",
       "      <td>0</td>\n",
       "      <td>0</td>\n",
       "      <td>0</td>\n",
       "      <td>0</td>\n",
       "      <td>0</td>\n",
       "      <td>0</td>\n",
       "      <td>0</td>\n",
       "      <td>1</td>\n",
       "      <td>30</td>\n",
       "      <td>0</td>\n",
       "    </tr>\n",
       "    <tr>\n",
       "      <th>4</th>\n",
       "      <td>1</td>\n",
       "      <td>51</td>\n",
       "      <td>0</td>\n",
       "      <td>8</td>\n",
       "      <td>0</td>\n",
       "      <td>0</td>\n",
       "      <td>0</td>\n",
       "      <td>5</td>\n",
       "      <td>0</td>\n",
       "      <td>1</td>\n",
       "      <td>...</td>\n",
       "      <td>0</td>\n",
       "      <td>0</td>\n",
       "      <td>0</td>\n",
       "      <td>0</td>\n",
       "      <td>0</td>\n",
       "      <td>0</td>\n",
       "      <td>0</td>\n",
       "      <td>1</td>\n",
       "      <td>40</td>\n",
       "      <td>0</td>\n",
       "    </tr>\n",
       "  </tbody>\n",
       "</table>\n",
       "<p>5 rows × 143 columns</p>\n",
       "</div>"
      ],
      "text/plain": [
       "   time_in_hospital  num_lab_procedures  num_procedures  num_medications  \\\n",
       "0                 1                  41               0                1   \n",
       "1                 3                  59               0               18   \n",
       "2                 2                  11               5               13   \n",
       "3                 2                  44               1               16   \n",
       "4                 1                  51               0                8   \n",
       "\n",
       "   number_outpatient  number_emergency  number_inpatient  number_diagnoses  \\\n",
       "0                  0                 0                 0                 1   \n",
       "1                  0                 0                 0                 9   \n",
       "2                  2                 0                 1                 6   \n",
       "3                  0                 0                 0                 7   \n",
       "4                  0                 0                 0                 5   \n",
       "\n",
       "   race_Asian  race_Caucasian  ...  med_spec_InternalMedicine  \\\n",
       "0           0               1  ...                          0   \n",
       "1           0               1  ...                          0   \n",
       "2           0               0  ...                          0   \n",
       "3           0               1  ...                          0   \n",
       "4           0               1  ...                          0   \n",
       "\n",
       "   med_spec_Nephrology  med_spec_Orthopedics  \\\n",
       "0                    0                     0   \n",
       "1                    0                     0   \n",
       "2                    0                     0   \n",
       "3                    0                     0   \n",
       "4                    0                     0   \n",
       "\n",
       "   med_spec_Orthopedics-Reconstructive  med_spec_Other  med_spec_Radiologist  \\\n",
       "0                                    0               1                     0   \n",
       "1                                    0               0                     0   \n",
       "2                                    0               0                     0   \n",
       "3                                    0               0                     0   \n",
       "4                                    0               0                     0   \n",
       "\n",
       "   med_spec_Surgery-General  med_spec_UNK  age_group  has_weight  \n",
       "0                         0             0          0           0  \n",
       "1                         0             1         10           0  \n",
       "2                         0             1         20           0  \n",
       "3                         0             1         30           0  \n",
       "4                         0             1         40           0  \n",
       "\n",
       "[5 rows x 143 columns]"
      ]
     },
     "execution_count": 184,
     "metadata": {},
     "output_type": "execute_result"
    }
   ],
   "source": [
    "df_data.head()"
   ]
  },
  {
   "cell_type": "code",
   "execution_count": 185,
   "metadata": {},
   "outputs": [],
   "source": [
    "# shuffle the samples\n",
    "df_data = df_data.sample(n = len(df_data), random_state = 42)\n",
    "df_data = df_data.reset_index(drop = True)"
   ]
  },
  {
   "cell_type": "code",
   "execution_count": 186,
   "metadata": {},
   "outputs": [
    {
     "name": "stdout",
     "output_type": "stream",
     "text": [
      "==> Size classes:\n",
      "\tno   [0] => 88029.0 => 0.886\n",
      "\tyes  [1] => 11314.0 => 0.114\n",
      "==> Dataset split:\n",
      "\ttrain => input=(79474, 143) | output=(79474,)\n",
      "\ttest  => input=(19869, 143) | output=(19869,)\n"
     ]
    }
   ],
   "source": [
    "#split dataset \n",
    "# -> stratified split\n",
    "# -> 80% train\n",
    "#    -> k-fold (k=4)\n",
    "# -> 20% test\n",
    "#    -> confusion matrix\n",
    "#    -> accuracy\n",
    "#    -> sensitivity\n",
    "#    -> recall\n",
    "X   = df_data.values #input\n",
    "Y = df_fulldata['OUTPUT_LABEL'].values\n",
    "\n",
    "Y_o_no  = np.where(Y_o == 0)[0]\n",
    "Y_o_yes = np.where(Y_o == 1)[0]\n",
    "\n",
    "class_names = {1:'yes', 0:'no'}\n",
    "names = ['no', 'yes']\n",
    "\n",
    "print ('==> Size classes:')\n",
    "for c in np.unique(Y_o):\n",
    "    s = np.sum(Y_o == c).astype(np.float)\n",
    "    print ('\\t{:4} [{:1}] => {:5} => {:3}'.format(class_names[c], c, s, round(s/len(Y_o), 3)))\n",
    "\n",
    "#split dataset: train and test\n",
    "X_train, X_test, Y_train,  Y_test = train_test_split(X, Y, test_size=0.2, shuffle=True, stratify=Y) \n",
    "\n",
    "print ('==> Dataset split:')\n",
    "print ('\\ttrain => input={} | output={}'.format(X_train.shape, Y_train.shape))\n",
    "print ('\\ttest  => input={} | output={}'.format(X_test.shape, Y_test.shape))\n"
   ]
  },
  {
   "cell_type": "markdown",
   "metadata": {},
   "source": [
    "# Methods"
   ]
  },
  {
   "cell_type": "code",
   "execution_count": 187,
   "metadata": {},
   "outputs": [],
   "source": [
    "from sklearn.metrics import classification_report, accuracy_score, \\\n",
    "                            average_precision_score, f1_score, precision_score,\\\n",
    "                            recall_score, roc_auc_score, log_loss\n",
    "\n",
    "def report(y_true, y_pred, prefix):\n",
    "    accuracy = accuracy_score(y_true, y_pred)\n",
    "    ap      = average_precision_score(y_true, y_pred)\n",
    "    f1      = f1_score(y_true, y_pred)\n",
    "    lloss   = log_loss(y_true, y_pred)\n",
    "    prec    = precision_score(y_true, y_pred)\n",
    "    recall  = recall_score(y_true, y_pred)\n",
    "    auc     = roc_auc_score(y_true, y_pred)\n",
    "    \n",
    "    print ('{} Accuracy :{:3}'.format(prefix, accuracy))\n",
    "    print ('{} AP:       {:3}'.format(prefix, ap))\n",
    "    print ('{} F1-score :{:3}'.format(prefix, f1))\n",
    "    print ('{} Log-Loss :{:3}'.format(prefix, lloss))\n",
    "    print ('{} Precision:{:3}'.format(prefix, prec))\n",
    "    print ('{} Recall   :{:3}'.format(prefix, recall))\n",
    "    print ('{} AUC      :{:3}'.format(prefix, auc))   "
   ]
  },
  {
   "cell_type": "markdown",
   "metadata": {},
   "source": [
    "# Linear SVM"
   ]
  },
  {
   "cell_type": "code",
   "execution_count": 188,
   "metadata": {},
   "outputs": [],
   "source": [
    "from sklearn.svm import LinearSVC\n",
    "import pickle\n",
    "\n",
    "# penalty     = l2\n",
    "# loss        = hinge\n",
    "# dual        = False\n",
    "# tol         = 1e-6\n",
    "# C           = 1.0\n",
    "# multi_class = ovr\n",
    "# verbose     = 0\n",
    "# random_state= 42\n",
    "# max_iter    = 1e6\n",
    "linear_svm = LinearSVC(dual=False, tol=1e-6, random_state=42, max_iter=1e5)"
   ]
  },
  {
   "cell_type": "markdown",
   "metadata": {},
   "source": [
    "### training"
   ]
  },
  {
   "cell_type": "code",
   "execution_count": 190,
   "metadata": {},
   "outputs": [
    {
     "name": "stdout",
     "output_type": "stream",
     "text": [
      "==> training Linear SVM:\n",
      "\t\u001b[94m iteration 0\u001b[0m\n",
      "\t\t train size: input= (59605, 143) | output= (59605,)\n",
      "\t\t valid size: input= (19869, 143) | output= (19869,)\n",
      "\t\t report train:\n",
      "\t\t\t Accuracy :0.8861169364986159\n",
      "\t\t\t AP:       0.11388306350138411\n",
      "\t\t\t F1-score :0.0\n",
      "\t\t\t Log-Loss :3.9333816654417206\n",
      "\t\t\t Precision:0.0\n",
      "\t\t\t Recall   :0.0\n",
      "\t\t\t AUC      :0.5\n",
      "\t\t report valid:\n",
      "\t\t\t Accuracy :0.8861039810760482\n",
      "\t\t\t AP:       0.11389601892395189\n",
      "\t\t\t F1-score :0.0\n",
      "\t\t\t Log-Loss :3.93382912988489\n",
      "\t\t\t Precision:0.0\n",
      "\t\t\t Recall   :0.0\n",
      "\t\t\t AUC      :0.5\n",
      "\t\u001b[94m iteration 1\u001b[0m\n",
      "\t\t train size: input= (59605, 143) | output= (59605,)\n",
      "\t\t valid size: input= (19869, 143) | output= (19869,)\n"
     ]
    },
    {
     "name": "stderr",
     "output_type": "stream",
     "text": [
      "/home/iago/anaconda3/lib/python3.7/site-packages/sklearn/metrics/classification.py:1437: UndefinedMetricWarning: F-score is ill-defined and being set to 0.0 due to no predicted samples.\n",
      "  'precision', 'predicted', average, warn_for)\n",
      "/home/iago/anaconda3/lib/python3.7/site-packages/sklearn/metrics/classification.py:1437: UndefinedMetricWarning: Precision is ill-defined and being set to 0.0 due to no predicted samples.\n",
      "  'precision', 'predicted', average, warn_for)\n",
      "/home/iago/anaconda3/lib/python3.7/site-packages/sklearn/metrics/classification.py:1437: UndefinedMetricWarning: F-score is ill-defined and being set to 0.0 due to no predicted samples.\n",
      "  'precision', 'predicted', average, warn_for)\n",
      "/home/iago/anaconda3/lib/python3.7/site-packages/sklearn/metrics/classification.py:1437: UndefinedMetricWarning: Precision is ill-defined and being set to 0.0 due to no predicted samples.\n",
      "  'precision', 'predicted', average, warn_for)\n"
     ]
    },
    {
     "name": "stdout",
     "output_type": "stream",
     "text": [
      "\t\t report train:\n",
      "\t\t\t Accuracy :0.8861169364986159\n",
      "\t\t\t AP:       0.11388306350138411\n",
      "\t\t\t F1-score :0.0\n",
      "\t\t\t Log-Loss :3.93338166544172\n",
      "\t\t\t Precision:0.0\n",
      "\t\t\t Recall   :0.0\n",
      "\t\t\t AUC      :0.5\n",
      "\t\t report valid:\n",
      "\t\t\t Accuracy :0.8861039810760482\n",
      "\t\t\t AP:       0.11389601892395189\n",
      "\t\t\t F1-score :0.0\n",
      "\t\t\t Log-Loss :3.93382912988489\n",
      "\t\t\t Precision:0.0\n",
      "\t\t\t Recall   :0.0\n",
      "\t\t\t AUC      :0.5\n",
      "\t\u001b[94m iteration 2\u001b[0m\n",
      "\t\t train size: input= (59605, 143) | output= (59605,)\n",
      "\t\t valid size: input= (19869, 143) | output= (19869,)\n"
     ]
    },
    {
     "name": "stderr",
     "output_type": "stream",
     "text": [
      "/home/iago/anaconda3/lib/python3.7/site-packages/sklearn/metrics/classification.py:1437: UndefinedMetricWarning: F-score is ill-defined and being set to 0.0 due to no predicted samples.\n",
      "  'precision', 'predicted', average, warn_for)\n",
      "/home/iago/anaconda3/lib/python3.7/site-packages/sklearn/metrics/classification.py:1437: UndefinedMetricWarning: Precision is ill-defined and being set to 0.0 due to no predicted samples.\n",
      "  'precision', 'predicted', average, warn_for)\n",
      "/home/iago/anaconda3/lib/python3.7/site-packages/sklearn/metrics/classification.py:1437: UndefinedMetricWarning: F-score is ill-defined and being set to 0.0 due to no predicted samples.\n",
      "  'precision', 'predicted', average, warn_for)\n",
      "/home/iago/anaconda3/lib/python3.7/site-packages/sklearn/metrics/classification.py:1437: UndefinedMetricWarning: Precision is ill-defined and being set to 0.0 due to no predicted samples.\n",
      "  'precision', 'predicted', average, warn_for)\n"
     ]
    },
    {
     "name": "stdout",
     "output_type": "stream",
     "text": [
      "\t\t report train:\n",
      "\t\t\t Accuracy :0.8861169364986159\n",
      "\t\t\t AP:       0.11388306350138411\n",
      "\t\t\t F1-score :0.0\n",
      "\t\t\t Log-Loss :3.93338166544172\n",
      "\t\t\t Precision:0.0\n",
      "\t\t\t Recall   :0.0\n",
      "\t\t\t AUC      :0.5\n",
      "\t\t report valid:\n",
      "\t\t\t Accuracy :0.8861039810760482\n",
      "\t\t\t AP:       0.11389601892395189\n",
      "\t\t\t F1-score :0.0\n",
      "\t\t\t Log-Loss :3.93382912988489\n",
      "\t\t\t Precision:0.0\n",
      "\t\t\t Recall   :0.0\n",
      "\t\t\t AUC      :0.5\n",
      "\t\u001b[94m iteration 3\u001b[0m\n",
      "\t\t train size: input= (59607, 143) | output= (59607,)\n",
      "\t\t valid size: input= (19867, 143) | output= (19867,)\n"
     ]
    },
    {
     "name": "stderr",
     "output_type": "stream",
     "text": [
      "/home/iago/anaconda3/lib/python3.7/site-packages/sklearn/metrics/classification.py:1437: UndefinedMetricWarning: F-score is ill-defined and being set to 0.0 due to no predicted samples.\n",
      "  'precision', 'predicted', average, warn_for)\n",
      "/home/iago/anaconda3/lib/python3.7/site-packages/sklearn/metrics/classification.py:1437: UndefinedMetricWarning: Precision is ill-defined and being set to 0.0 due to no predicted samples.\n",
      "  'precision', 'predicted', average, warn_for)\n",
      "/home/iago/anaconda3/lib/python3.7/site-packages/sklearn/metrics/classification.py:1437: UndefinedMetricWarning: F-score is ill-defined and being set to 0.0 due to no predicted samples.\n",
      "  'precision', 'predicted', average, warn_for)\n",
      "/home/iago/anaconda3/lib/python3.7/site-packages/sklearn/metrics/classification.py:1437: UndefinedMetricWarning: Precision is ill-defined and being set to 0.0 due to no predicted samples.\n",
      "  'precision', 'predicted', average, warn_for)\n"
     ]
    },
    {
     "name": "stdout",
     "output_type": "stream",
     "text": [
      "\t\t report train:\n",
      "\t\t\t Accuracy :0.8861039810760482\n",
      "\t\t\t AP:       0.11389601892395189\n",
      "\t\t\t F1-score :0.0\n",
      "\t\t\t Log-Loss :3.93382912988489\n",
      "\t\t\t Precision:0.0\n",
      "\t\t\t Recall   :0.0\n",
      "\t\t\t AUC      :0.5\n",
      "\t\t report valid:\n",
      "\t\t\t Accuracy :0.8861428499521821\n",
      "\t\t\t AP:       0.11385715004781799\n",
      "\t\t\t F1-score :0.0\n",
      "\t\t\t Log-Loss :3.93248664646338\n",
      "\t\t\t Precision:0.0\n",
      "\t\t\t Recall   :0.0\n",
      "\t\t\t AUC      :0.5\n"
     ]
    },
    {
     "name": "stderr",
     "output_type": "stream",
     "text": [
      "/home/iago/anaconda3/lib/python3.7/site-packages/sklearn/metrics/classification.py:1437: UndefinedMetricWarning: F-score is ill-defined and being set to 0.0 due to no predicted samples.\n",
      "  'precision', 'predicted', average, warn_for)\n",
      "/home/iago/anaconda3/lib/python3.7/site-packages/sklearn/metrics/classification.py:1437: UndefinedMetricWarning: Precision is ill-defined and being set to 0.0 due to no predicted samples.\n",
      "  'precision', 'predicted', average, warn_for)\n",
      "/home/iago/anaconda3/lib/python3.7/site-packages/sklearn/metrics/classification.py:1437: UndefinedMetricWarning: F-score is ill-defined and being set to 0.0 due to no predicted samples.\n",
      "  'precision', 'predicted', average, warn_for)\n",
      "/home/iago/anaconda3/lib/python3.7/site-packages/sklearn/metrics/classification.py:1437: UndefinedMetricWarning: Precision is ill-defined and being set to 0.0 due to no predicted samples.\n",
      "  'precision', 'predicted', average, warn_for)\n"
     ]
    }
   ],
   "source": [
    "import warnings\n",
    "warnings.filterwarnings('always')\n",
    "\n",
    "kfold = StratifiedKFold(n_splits=4, random_state=None, shuffle=True)\n",
    "\n",
    "print ('==> training Linear SVM:')\n",
    "iteration = 0\n",
    "for itrain, ivalid in kfold.split(X_train, Y_train):\n",
    "    print ('\\t\\033[94m iteration {}\\033[0m'.format(iteration))\n",
    "    \n",
    "    #split dataset into train and valid, based on folds\n",
    "    xi_train, xi_valid = X_train[itrain], X_train[ivalid]\n",
    "    yi_train, yi_valid = Y_train[itrain], Y_train[ivalid]\n",
    "    print ('\\t\\t train size: input= {} | output= {}'.format(xi_train.shape, yi_train.shape))\n",
    "    print ('\\t\\t valid size: input= {} | output= {}'.format(xi_valid.shape, yi_valid.shape))\n",
    "        \n",
    "    #train\n",
    "    linear_svm.fit(xi_train, yi_train)\n",
    "    \n",
    "    #valid\n",
    "    y_train_predicted = linear_svm.predict(xi_train) \n",
    "    y_valid_predicted = linear_svm.predict(xi_valid)\n",
    "    \n",
    "    #report\n",
    "    print ('\\t\\t report train:')\n",
    "    report(y_true=yi_train, y_pred=y_train_predicted, prefix='\\t\\t\\t')\n",
    "    print ('\\t\\t report valid:')\n",
    "    report(y_true=yi_valid, y_pred=y_valid_predicted, prefix='\\t\\t\\t')\n",
    "    \n",
    "    with open('models/svm/linear_svm_{}'.format(iteration), 'wb') as f:\n",
    "        f.write(pickle.dumps(linear_svm))\n",
    "    \n",
    "    \n",
    "    iteration += 1\n",
    "    \n",
    "    "
   ]
  },
  {
   "cell_type": "markdown",
   "metadata": {},
   "source": [
    "### test"
   ]
  },
  {
   "cell_type": "code",
   "execution_count": null,
   "metadata": {},
   "outputs": [],
   "source": []
  },
  {
   "cell_type": "markdown",
   "metadata": {},
   "source": [
    "# Sigmoid SVM"
   ]
  },
  {
   "cell_type": "markdown",
   "metadata": {},
   "source": [
    "### training"
   ]
  },
  {
   "cell_type": "code",
   "execution_count": null,
   "metadata": {},
   "outputs": [],
   "source": []
  },
  {
   "cell_type": "markdown",
   "metadata": {},
   "source": [
    "### test"
   ]
  },
  {
   "cell_type": "code",
   "execution_count": null,
   "metadata": {},
   "outputs": [],
   "source": []
  },
  {
   "cell_type": "markdown",
   "metadata": {},
   "source": [
    "# Poly SVM"
   ]
  },
  {
   "cell_type": "markdown",
   "metadata": {},
   "source": [
    "### training"
   ]
  },
  {
   "cell_type": "code",
   "execution_count": null,
   "metadata": {},
   "outputs": [],
   "source": []
  },
  {
   "cell_type": "markdown",
   "metadata": {},
   "source": [
    "### test"
   ]
  },
  {
   "cell_type": "code",
   "execution_count": null,
   "metadata": {},
   "outputs": [],
   "source": []
  },
  {
   "cell_type": "markdown",
   "metadata": {},
   "source": [
    "# RBF SVM"
   ]
  },
  {
   "cell_type": "markdown",
   "metadata": {},
   "source": [
    "### training"
   ]
  },
  {
   "cell_type": "code",
   "execution_count": null,
   "metadata": {},
   "outputs": [],
   "source": []
  },
  {
   "cell_type": "markdown",
   "metadata": {},
   "source": [
    "### test"
   ]
  },
  {
   "cell_type": "code",
   "execution_count": null,
   "metadata": {},
   "outputs": [],
   "source": []
  }
 ],
 "metadata": {
  "kernelspec": {
   "display_name": "Python 3",
   "language": "python",
   "name": "python3"
  },
  "language_info": {
   "codemirror_mode": {
    "name": "ipython",
    "version": 3
   },
   "file_extension": ".py",
   "mimetype": "text/x-python",
   "name": "python",
   "nbconvert_exporter": "python",
   "pygments_lexer": "ipython3",
   "version": "3.7.3"
  }
 },
 "nbformat": 4,
 "nbformat_minor": 2
}
